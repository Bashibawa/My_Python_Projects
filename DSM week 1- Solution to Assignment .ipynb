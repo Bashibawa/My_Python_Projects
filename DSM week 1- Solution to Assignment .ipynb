{
 "cells": [
  {
   "cell_type": "markdown",
   "id": "d16ddc39",
   "metadata": {},
   "source": [
    "## Solution to Assignment by Bashidoshi Musa"
   ]
  },
  {
   "cell_type": "markdown",
   "id": "3b91a9a6",
   "metadata": {},
   "source": [
    "Hal owns a business named **Make Your Own Music**, which sell several musical instruments. Hal's sales staff works strictly on commission. At the end of the month, each salesperson's commission is calculated below according to the **Sales commission rates**"
   ]
  },
  {
   "cell_type": "code",
   "execution_count": 11,
   "id": "c6b57280",
   "metadata": {},
   "outputs": [
    {
     "name": "stdout",
     "output_type": "stream",
     "text": [
      "Enter the total amount of goods sold for the month15000\n",
      "Congratulations your pay is $100.0\n"
     ]
    },
    {
     "data": {
      "text/plain": [
       "100.0"
      ]
     },
     "execution_count": 11,
     "metadata": {},
     "output_type": "execute_result"
    }
   ],
   "source": [
    "# A calculator to calculate each sales person's commission at the end of the month\n",
    "def monthly_sales(sales, commission_rate, advanced_pay):\n",
    "    total_pay= sales * commission_rate - advanced_pay\n",
    "    if total_pay >= 1:\n",
    "        print(\"Congratulations your pay is ${}\".format(total_pay))\n",
    "    else:\n",
    "        print(\"Sorry! you have a balance of ${} to pay back to Hal\".format(total_pay))\n",
    "    return total_pay\n",
    "        \n",
    "# to input the sales\n",
    "sales= int(input(\"Enter the total amount of goods sold for the month\"))\n",
    "\n",
    "# to find the commission rate for each range of sales\n",
    "if sales >= 22000:\n",
    "    commission_rate= 0.18\n",
    "elif sales >= 18000:\n",
    "    commission_rate= 0.16\n",
    "elif sales >=15000:\n",
    "    commission_rate= 0.14\n",
    "elif sales >=10000:\n",
    "    commission_rate= 0.12\n",
    "elif sales < 10000:\n",
    "    commission_rate= 0.10\n",
    "else:\n",
    "    print(\"Price is not in range, please try again\")\n",
    "    \n",
    "# advanced pay\n",
    "advanced_pay= 2000\n",
    "\n",
    "monthly_sales(sales, commission_rate, advanced_pay)"
   ]
  },
  {
   "cell_type": "code",
   "execution_count": null,
   "id": "046c5791",
   "metadata": {},
   "outputs": [],
   "source": []
  }
 ],
 "metadata": {
  "kernelspec": {
   "display_name": "Python 3 (ipykernel)",
   "language": "python",
   "name": "python3"
  },
  "language_info": {
   "codemirror_mode": {
    "name": "ipython",
    "version": 3
   },
   "file_extension": ".py",
   "mimetype": "text/x-python",
   "name": "python",
   "nbconvert_exporter": "python",
   "pygments_lexer": "ipython3",
   "version": "3.9.12"
  }
 },
 "nbformat": 4,
 "nbformat_minor": 5
}
